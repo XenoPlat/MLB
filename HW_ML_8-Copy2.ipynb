{
 "cells": [
  {
   "cell_type": "markdown",
   "metadata": {},
   "source": [
    "## Урок 8. Кейс 2. Типы моделей для задачи оттока"
   ]
  },
  {
   "cell_type": "markdown",
   "metadata": {},
   "source": [
    "Построить модель градиентного бустинга для классификации числа страховых случаев (см. в конце ноутбука). Можно предобработать исходные данные, добавив дополнительные фичи. Также можно использовать различные методы для подбора гиперпараметров. Оценить результаты построенного классификатора, выявить возможные проблемы. Сравнить результаты с полученным на занятии результатом с использованием Пуассоновской регрессии. Проанализировать результаты, предложить способы решения обнаруженных проблем и/или попробовать его улучшить."
   ]
  },
  {
   "cell_type": "code",
   "execution_count": 1,
   "metadata": {},
   "outputs": [],
   "source": [
    "import pandas as pd\n",
    "import numpy as np\n",
    "import xgboost as xgb\n",
    "import matplotlib.pyplot as plt\n",
    "from sklearn.model_selection import train_test_split\n",
    "from sklearn.metrics import f1_score, accuracy_score, confusion_matrix\n",
    "from hyperopt import hp, tpe, space_eval\n",
    "from hyperopt.fmin import fmin\n",
    "import warnings\n",
    "warnings.filterwarnings('ignore')\n",
    "\n",
    "def SeriesFactorizer(series):\n",
    "    series, unique = pd.factorize(series)\n",
    "    reference = {x: i for x, i in enumerate(unique)}\n",
    "    print(reference)\n",
    "    return series, reference"
   ]
  },
  {
   "cell_type": "code",
   "execution_count": 2,
   "metadata": {},
   "outputs": [
    {
     "name": "stdout",
     "output_type": "stream",
     "text": [
      "<class 'pandas.core.frame.DataFrame'>\n",
      "RangeIndex: 115155 entries, 0 to 115154\n",
      "Data columns (total 20 columns):\n",
      " #   Column             Non-Null Count   Dtype  \n",
      "---  ------             --------------   -----  \n",
      " 0   Exposure           115155 non-null  float64\n",
      " 1   LicAge             115155 non-null  int64  \n",
      " 2   RecordBeg          115155 non-null  object \n",
      " 3   RecordEnd          59455 non-null   object \n",
      " 4   Gender             115155 non-null  object \n",
      " 5   MariStat           115155 non-null  object \n",
      " 6   SocioCateg         115155 non-null  object \n",
      " 7   VehUsage           115155 non-null  object \n",
      " 8   DrivAge            115155 non-null  int64  \n",
      " 9   HasKmLimit         115155 non-null  int64  \n",
      " 10  BonusMalus         115155 non-null  int64  \n",
      " 11  ClaimAmount        115155 non-null  float64\n",
      " 12  ClaimInd           115155 non-null  int64  \n",
      " 13  ClaimNbResp        115155 non-null  float64\n",
      " 14  ClaimNbNonResp     115155 non-null  float64\n",
      " 15  ClaimNbParking     115155 non-null  float64\n",
      " 16  ClaimNbFireTheft   115155 non-null  float64\n",
      " 17  ClaimNbWindscreen  115155 non-null  float64\n",
      " 18  OutUseNb           115155 non-null  float64\n",
      " 19  RiskArea           115155 non-null  float64\n",
      "dtypes: float64(9), int64(5), object(6)\n",
      "memory usage: 17.6+ MB\n"
     ]
    }
   ],
   "source": [
    "df = pd.read_csv('E:\\GB\\MachineLearning\\MPL_R.csv', low_memory=False)\n",
    "df = df.loc[df.Dataset.isin([5, 6, 7, 8, 9])]\n",
    "df.drop('Dataset', axis=1, inplace=True)\n",
    "df.dropna(axis=1, how='all', inplace=True)\n",
    "df.drop_duplicates(inplace=True)\n",
    "df.reset_index(drop=True, inplace=True)\n",
    "df.info()"
   ]
  },
  {
   "cell_type": "markdown",
   "metadata": {},
   "source": [
    "Обработка данных"
   ]
  },
  {
   "cell_type": "code",
   "execution_count": 3,
   "metadata": {},
   "outputs": [
    {
     "name": "stdout",
     "output_type": "stream",
     "text": [
      "{0: 'Other', 1: 'Alone'}\n",
      "{0: 'Male', 1: 'Female'}\n"
     ]
    }
   ],
   "source": [
    "# обнулить отрицательный ущерб\n",
    "df.loc[df['ClaimAmount'] < 0, 'ClaimAmount'] = 0\n",
    "\n",
    "# перекодировать признаки\n",
    "df['MariStat'], MariStatRef = SeriesFactorizer(df['MariStat'])\n",
    "df['Gender'], GenderRef = SeriesFactorizer(df['Gender'])\n",
    "\n",
    "# перекодировать SocioCateg до первой значащей цифры класса \n",
    "df['SocioCateg'] = df['SocioCateg'].str.slice(0,4)\n",
    "\n",
    "# дамми\n",
    "df = pd.get_dummies(df, columns=['VehUsage','SocioCateg'])\n",
    "\n",
    "# удалить лишние признаки\n",
    "df = df.select_dtypes(exclude=['object'])\n",
    "\n",
    "df['DrivAgeSq'] = df['DrivAge'].apply(lambda x: x**2)"
   ]
  },
  {
   "cell_type": "code",
   "execution_count": 4,
   "metadata": {},
   "outputs": [
    {
     "name": "stdout",
     "output_type": "stream",
     "text": [
      "<class 'pandas.core.frame.DataFrame'>\n",
      "RangeIndex: 115155 entries, 0 to 115154\n",
      "Data columns (total 24 columns):\n",
      " #   Column                           Non-Null Count   Dtype  \n",
      "---  ------                           --------------   -----  \n",
      " 0   Exposure                         115155 non-null  float64\n",
      " 1   LicAge                           115155 non-null  int64  \n",
      " 2   Gender                           115155 non-null  int64  \n",
      " 3   MariStat                         115155 non-null  int64  \n",
      " 4   DrivAge                          115155 non-null  int64  \n",
      " 5   HasKmLimit                       115155 non-null  int64  \n",
      " 6   BonusMalus                       115155 non-null  int64  \n",
      " 7   ClaimAmount                      115155 non-null  float64\n",
      " 8   ClaimInd                         115155 non-null  int64  \n",
      " 9   OutUseNb                         115155 non-null  float64\n",
      " 10  RiskArea                         115155 non-null  float64\n",
      " 11  VehUsage_Private                 115155 non-null  uint8  \n",
      " 12  VehUsage_Private+trip to office  115155 non-null  uint8  \n",
      " 13  VehUsage_Professional            115155 non-null  uint8  \n",
      " 14  VehUsage_Professional run        115155 non-null  uint8  \n",
      " 15  SocioCateg_CSP1                  115155 non-null  uint8  \n",
      " 16  SocioCateg_CSP2                  115155 non-null  uint8  \n",
      " 17  SocioCateg_CSP3                  115155 non-null  uint8  \n",
      " 18  SocioCateg_CSP4                  115155 non-null  uint8  \n",
      " 19  SocioCateg_CSP5                  115155 non-null  uint8  \n",
      " 20  SocioCateg_CSP6                  115155 non-null  uint8  \n",
      " 21  SocioCateg_CSP7                  115155 non-null  uint8  \n",
      " 22  DrivAgeSq                        115155 non-null  int64  \n",
      " 23  ClaimsCount                      115155 non-null  float64\n",
      "dtypes: float64(5), int64(8), uint8(11)\n",
      "memory usage: 12.6 MB\n"
     ]
    }
   ],
   "source": [
    "df['ClaimsCount'] = df['ClaimInd'] + df['ClaimNbResp'] + df['ClaimNbNonResp'] + df['ClaimNbParking'] + df['ClaimNbFireTheft'] + df['ClaimNbWindscreen']\n",
    "df.loc[df['ClaimAmount'] == 0, 'ClaimsCount'] = 0\n",
    "df.drop([\"ClaimNbResp\", \"ClaimNbNonResp\", \"ClaimNbParking\", \"ClaimNbFireTheft\", \"ClaimNbWindscreen\"], axis=1, inplace=True)\n",
    "df.info()"
   ]
  },
  {
   "cell_type": "markdown",
   "metadata": {},
   "source": [
    "XGBoost для многоклассовой классификации принимает на вход значения меток классов в виде [0, num_classes]. Заменим значение 11 на 10."
   ]
  },
  {
   "cell_type": "code",
   "execution_count": 5,
   "metadata": {},
   "outputs": [
    {
     "data": {
      "text/plain": [
       "0.0     104286\n",
       "2.0       3529\n",
       "1.0       3339\n",
       "3.0       2310\n",
       "4.0       1101\n",
       "5.0        428\n",
       "6.0        127\n",
       "7.0         26\n",
       "8.0          6\n",
       "9.0          2\n",
       "10.0         1\n",
       "Name: ClaimsCount, dtype: int64"
      ]
     },
     "execution_count": 5,
     "metadata": {},
     "output_type": "execute_result"
    }
   ],
   "source": [
    "df.loc[df['ClaimsCount']==11,'ClaimsCount']=10\n",
    "df['ClaimsCount'].value_counts()"
   ]
  },
  {
   "cell_type": "markdown",
   "metadata": {},
   "source": [
    "Посмотрим, сколько полисов соответствуют каждому из значений ClaimsCount, используя метод groupby. Для полученных значений также посчитаем нормированную частоту."
   ]
  },
  {
   "cell_type": "code",
   "execution_count": 6,
   "metadata": {},
   "outputs": [
    {
     "data": {
      "text/html": [
       "<div>\n",
       "<style scoped>\n",
       "    .dataframe tbody tr th:only-of-type {\n",
       "        vertical-align: middle;\n",
       "    }\n",
       "\n",
       "    .dataframe tbody tr th {\n",
       "        vertical-align: top;\n",
       "    }\n",
       "\n",
       "    .dataframe thead th {\n",
       "        text-align: right;\n",
       "    }\n",
       "</style>\n",
       "<table border=\"1\" class=\"dataframe\">\n",
       "  <thead>\n",
       "    <tr style=\"text-align: right;\">\n",
       "      <th></th>\n",
       "      <th>Count</th>\n",
       "      <th>Freq</th>\n",
       "    </tr>\n",
       "    <tr>\n",
       "      <th>ClaimsCount</th>\n",
       "      <th></th>\n",
       "      <th></th>\n",
       "    </tr>\n",
       "  </thead>\n",
       "  <tbody>\n",
       "    <tr>\n",
       "      <th>0.0</th>\n",
       "      <td>104286</td>\n",
       "      <td>0.905614</td>\n",
       "    </tr>\n",
       "    <tr>\n",
       "      <th>2.0</th>\n",
       "      <td>3529</td>\n",
       "      <td>0.030646</td>\n",
       "    </tr>\n",
       "    <tr>\n",
       "      <th>1.0</th>\n",
       "      <td>3339</td>\n",
       "      <td>0.028996</td>\n",
       "    </tr>\n",
       "    <tr>\n",
       "      <th>3.0</th>\n",
       "      <td>2310</td>\n",
       "      <td>0.020060</td>\n",
       "    </tr>\n",
       "    <tr>\n",
       "      <th>4.0</th>\n",
       "      <td>1101</td>\n",
       "      <td>0.009561</td>\n",
       "    </tr>\n",
       "    <tr>\n",
       "      <th>5.0</th>\n",
       "      <td>428</td>\n",
       "      <td>0.003717</td>\n",
       "    </tr>\n",
       "    <tr>\n",
       "      <th>6.0</th>\n",
       "      <td>127</td>\n",
       "      <td>0.001103</td>\n",
       "    </tr>\n",
       "    <tr>\n",
       "      <th>7.0</th>\n",
       "      <td>26</td>\n",
       "      <td>0.000226</td>\n",
       "    </tr>\n",
       "    <tr>\n",
       "      <th>8.0</th>\n",
       "      <td>6</td>\n",
       "      <td>0.000052</td>\n",
       "    </tr>\n",
       "    <tr>\n",
       "      <th>9.0</th>\n",
       "      <td>2</td>\n",
       "      <td>0.000017</td>\n",
       "    </tr>\n",
       "    <tr>\n",
       "      <th>10.0</th>\n",
       "      <td>1</td>\n",
       "      <td>0.000009</td>\n",
       "    </tr>\n",
       "  </tbody>\n",
       "</table>\n",
       "</div>"
      ],
      "text/plain": [
       "              Count      Freq\n",
       "ClaimsCount                  \n",
       "0.0          104286  0.905614\n",
       "2.0            3529  0.030646\n",
       "1.0            3339  0.028996\n",
       "3.0            2310  0.020060\n",
       "4.0            1101  0.009561\n",
       "5.0             428  0.003717\n",
       "6.0             127  0.001103\n",
       "7.0              26  0.000226\n",
       "8.0               6  0.000052\n",
       "9.0               2  0.000017\n",
       "10.0              1  0.000009"
      ]
     },
     "execution_count": 6,
     "metadata": {},
     "output_type": "execute_result"
    }
   ],
   "source": [
    "FreqCount = pd.DataFrame(data=df['ClaimsCount'].value_counts())\n",
    "FreqCount.index.name = 'ClaimsCount'\n",
    "FreqCount.columns = ['Count']\n",
    "FreqCount['Freq'] = FreqCount['Count']/df.shape[0]\n",
    "FreqCount "
   ]
  },
  {
   "cell_type": "code",
   "execution_count": 7,
   "metadata": {},
   "outputs": [
    {
     "data": {
      "image/png": "[encoded data removed]",
      "text/plain": [
       "<Figure size 432x288 with 1 Axes>"
      ]
     },
     "metadata": {
      "needs_background": "light"
     },
     "output_type": "display_data"
    }
   ],
   "source": [
    "FreqCount.Freq.plot(kind='bar')\n",
    "plt.ylabel('Frequency')\n",
    "plt.show()"
   ]
  },
  {
   "cell_type": "markdown",
   "metadata": {},
   "source": [
    "Заметим, что в данном случае присутствует проблема несбалансированности классов. Поэтому, для того, чтобы по возможности избежать ее, воспользуемся взвешиванием наблюдений для обучения модели. Для этого в исходном наборе данных создадим столбец `weight`. Присвоим ему некоторые значения, например, можно задать `0.05` для значений `ClaimsCount` 0, а для остальных - 1 (Для этого можем использовать функцию `np.where`). Также можно попробовать какой-либо другой способ задания весов, приведенный пример не гарантирует хороших результатов."
   ]
  },
  {
   "cell_type": "code",
   "execution_count": 8,
   "metadata": {},
   "outputs": [
    {
     "data": {
      "text/plain": [
       "0.05    104286\n",
       "1.00     10869\n",
       "Name: weight, dtype: int64"
      ]
     },
     "execution_count": 8,
     "metadata": {},
     "output_type": "execute_result"
    }
   ],
   "source": [
    "df['weight'] = 0\n",
    "df.loc[df['ClaimsCount'].isin([0]) , 'weight'] = 0.05\n",
    "df.loc[df['ClaimsCount'].isin([1, 2, 3, 4, 5, 6, 7, 8, 9, 10]) , 'weight'] = 1\n",
    "\n",
    "df['weight'].value_counts()"
   ]
  },
  {
   "cell_type": "markdown",
   "metadata": {},
   "source": [
    "Разобьем имеющийся набор данных на обучающую, валидационную и тестовую выборки в отношениях 70%/15%/15% соответственно. Зададим зерно для случайного разбиения равным 10."
   ]
  },
  {
   "cell_type": "code",
   "execution_count": 9,
   "metadata": {},
   "outputs": [],
   "source": [
    "x_train, x_test, y_train, y_test = train_test_split(df.drop(['ClaimsCount'], axis=1), \n",
    "                                                    df['ClaimsCount'], test_size=0.3, random_state=10)\n",
    "x_valid, x_test, y_valid, y_test = train_test_split(x_test, y_test, test_size=0.5, random_state=10)"
   ]
  },
  {
   "cell_type": "markdown",
   "metadata": {},
   "source": [
    "Далее, создадим объекты `DMatrix` для обучающей, валидационной и тестовой выборок. Для обучающей выборки также укажем параметр `weight` равным полученному ранее столбцу весов. Данный столбец также нужно исключить из объекта передаваемого в параметр `data`."
   ]
  },
  {
   "cell_type": "code",
   "execution_count": 10,
   "metadata": {},
   "outputs": [],
   "source": [
    "xgb_train = xgb.DMatrix(data=x_train.drop(['Exposure','weight'], axis=1), label=y_train, weight=x_train['weight'])\n",
    "xgb_valid = xgb.DMatrix(data=x_valid.drop(['Exposure','weight'], axis=1), label=y_valid, weight=x_valid['weight'])\n",
    "xgb_test  = xgb.DMatrix(data= x_test.drop(['Exposure','weight'], axis=1), label=y_test, weight=x_test['weight'])"
   ]
  },
  {
   "cell_type": "markdown",
   "metadata": {},
   "source": [
    "Для оптимизации гиперпараметров можно воспользоваться различными методами."
   ]
  },
  {
   "cell_type": "code",
   "execution_count": 11,
   "metadata": {},
   "outputs": [],
   "source": [
    "def objective(params):\n",
    "    params['max_depth'] = int(params['max_depth'])\n",
    "    n_b_r = int(params.pop('num_boost_round'))\n",
    "    data = params.pop('data')\n",
    "    nfold = params.pop('nfold')\n",
    "    e_s_r = params.pop('early_stopping_rounds')\n",
    "    maximize = params.pop('maximize')\n",
    "    \n",
    "    cv_result = xgb.cv(params, data, num_boost_round=n_b_r, \n",
    "                       nfold=nfold, seed=0, maximize=maximize,\n",
    "                       early_stopping_rounds=e_s_r)\n",
    "    \n",
    "    score = cv_result['test-mlogloss-mean'][-1:].values[0]\n",
    "    return score"
   ]
  },
  {
   "cell_type": "code",
   "execution_count": 12,
   "metadata": {},
   "outputs": [],
   "source": [
    "# Определим границы, в которых будем искать гиперпараметры\n",
    "\n",
    "space_freq = {'data': xgb_train,\n",
    "              'objective': 'multi:softmax',\n",
    "              'eval_metric': 'mlogloss',\n",
    "              'maximize': False,\n",
    "              'nfold': 2,\n",
    "              'early_stopping_rounds': 20,\n",
    "              'num_boost_round': 300,  \n",
    "              'max_depth': hp.choice('max_depth', [3, 5, 8, 10]),\n",
    "              'min_child_weight': hp.uniform('min_child_weight', 0, 50),\n",
    "              'subsample': hp.uniform('subsample', 0.5, 1),\n",
    "              'colsample_bytree': hp.uniform('colsample_bytree', 0.5, 1),\n",
    "              'alpha': hp.uniform('alpha', 0, 1),\n",
    "              'lambda': hp.uniform('lambda', 0, 1),\n",
    "              'eta': hp.uniform('eta', 0.01, 1),\n",
    "              'num_class': FreqCount.shape[0]\n",
    "              }"
   ]
  },
  {
   "cell_type": "code",
   "execution_count": 13,
   "metadata": {},
   "outputs": [
    {
     "name": "stdout",
     "output_type": "stream",
     "text": [
      "100%|█████████████████████████████████████████████████████████| 50/50 [22:21<00:00, 26.83s/trial, best loss: 0.9906805]\n"
     ]
    }
   ],
   "source": [
    "# Оптимизация (количество итераций снижено для ускорения работы)\n",
    "\n",
    "best = fmin(fn=objective, space=space_freq, algo=tpe.suggest, max_evals=50)"
   ]
  },
  {
   "cell_type": "code",
   "execution_count": 17,
   "metadata": {},
   "outputs": [
    {
     "data": {
      "text/plain": [
       "{'alpha': 0.7963247389484125,\n",
       " 'colsample_bytree': 0.5981246432184509,\n",
       " 'data': <xgboost.core.DMatrix at 0x1c097ba3608>,\n",
       " 'early_stopping_rounds': 20,\n",
       " 'eta': 0.1032594996717126,\n",
       " 'eval_metric': 'mlogloss',\n",
       " 'lambda': 0.07876880016868651,\n",
       " 'max_depth': 3,\n",
       " 'maximize': False,\n",
       " 'min_child_weight': 10.402404388370453,\n",
       " 'nfold': 2,\n",
       " 'num_boost_round': 300,\n",
       " 'num_class': 11,\n",
       " 'objective': 'multi:softmax',\n",
       " 'subsample': 0.9496503692394707}"
      ]
     },
     "execution_count": 17,
     "metadata": {},
     "output_type": "execute_result"
    }
   ],
   "source": [
    "# Оптимальные гиперпараметры \n",
    "best_params = space_eval(space_freq, best)\n",
    "best_params"
   ]
  },
  {
   "cell_type": "code",
   "execution_count": 18,
   "metadata": {},
   "outputs": [],
   "source": [
    "def train_xgb_best_params(params, dtrain, evals, early_stopping_rounds, evals_result=None, verbose_eval=None):\n",
    "    par = params.copy()\n",
    "    for label in ['nfold', 'data', 'early_stopping_rounds']:\n",
    "        del par[label]\n",
    "    n_b_r = int(par.pop('num_boost_round'))\n",
    "    maximize = par.pop('maximize')\n",
    "    \n",
    "    return xgb.train(params=par, dtrain=dtrain, num_boost_round=n_b_r, evals=evals, maximize=maximize,\n",
    "                     early_stopping_rounds=early_stopping_rounds, evals_result=evals_result, verbose_eval=verbose_eval)"
   ]
  },
  {
   "cell_type": "markdown",
   "metadata": {},
   "source": [
    "Далее обучим нашу модель с оптимальными параметрами"
   ]
  },
  {
   "cell_type": "code",
   "execution_count": 20,
   "metadata": {},
   "outputs": [],
   "source": [
    "progress = dict()\n",
    "xgb_freq = train_xgb_best_params(best_params, xgb_train, \n",
    "                                 [(xgb_train, \"train\"),(xgb_valid, \"valid\")], \n",
    "                                 early_stopping_rounds=50, evals_result=progress, \n",
    "                                 verbose_eval=False)"
   ]
  },
  {
   "cell_type": "markdown",
   "metadata": {},
   "source": [
    "Посчитаем метрики accuracy и f1 на наших наборах данных, также можем визуализировать confusion matrix, например, с помощью `plt.imshow()`. Можно использовать предложенный ниже код."
   ]
  },
  {
   "cell_type": "code",
   "execution_count": 21,
   "metadata": {},
   "outputs": [
    {
     "name": "stdout",
     "output_type": "stream",
     "text": [
      "F1 Score on train: 0.9452659785629218\n",
      "F1 Score on valid: 0.9383430787934928\n",
      "F1 Score on test: 0.938751881440315\n"
     ]
    }
   ],
   "source": [
    "dfsets = [{'set': 'train', 'dmat': xgb_train, 'target': y_train},\n",
    "          {'set': 'valid', 'dmat': xgb_valid, 'target': y_valid},\n",
    "          {'set': 'test', 'dmat': xgb_test, 'target': y_test}]\n",
    "for dfset in dfsets:\n",
    "    class_preds = xgb_freq.predict(dfset['dmat']) \n",
    "    print('F1 Score on ' + str(dfset['set'])+':', f1_score(dfset['target'], class_preds, average='micro')) "
   ]
  },
  {
   "cell_type": "code",
   "execution_count": 22,
   "metadata": {},
   "outputs": [
    {
     "data": {
      "image/png": "[encoded data removed]",
      "text/plain": [
       "<Figure size 1080x216 with 6 Axes>"
      ]
     },
     "metadata": {
      "needs_background": "light"
     },
     "output_type": "display_data"
    }
   ],
   "source": [
    "plt.subplots(1,3, figsize=(15,3))\n",
    "for i in range(len(dfsets)):\n",
    "    confmatrix = confusion_matrix(dfsets[i]['target'], xgb_freq.predict(dfsets[i]['dmat']))\n",
    "    plt.subplot(1,3,i+1)\n",
    "    plt.imshow(confmatrix, cmap='Greys')\n",
    "    plt.colorbar()\n",
    "    plt.ylabel('True')\n",
    "    plt.xlabel('Predicted')\n",
    "plt.show()"
   ]
  },
  {
   "cell_type": "markdown",
   "metadata": {},
   "source": [
    "Как вы оцениваете качество построенной модели? Какие проблемы могут здесь присутствовать? Как можно улучшить результат?"
   ]
  },
  {
   "cell_type": "markdown",
   "metadata": {},
   "source": [
    "__На матрице хорошо видно, что из-за преобладания класса 0 (сильнейший дисбаланс классов), модель может ошибочно относить к нему другие метки. Добавление весовых коэффициентов не сильно улучшает метрику и не решает проблему дисбаланса классов.<br>\n",
    "Типовые синтетические фичи (умножение, деление, возведение в степень) не улучшали метрику.__"
   ]
  },
  {
   "cell_type": "markdown",
   "metadata": {},
   "source": [
    "__Возможно, что вместо весов нужно использовать другие инструменты. Может, oversampling. Возможно также нужно пересмотреть механизм подбора параметров.__ "
   ]
  }
 ],
 "metadata": {
  "kernelspec": {
   "display_name": "Python 3",
   "language": "python",
   "name": "python3"
  },
  "language_info": {
   "codemirror_mode": {
    "name": "ipython",
    "version": 3
   },
   "file_extension": ".py",
   "mimetype": "text/x-python",
   "name": "python",
   "nbconvert_exporter": "python",
   "pygments_lexer": "ipython3",
   "version": "3.7.6"
  }
 },
 "nbformat": 4,
 "nbformat_minor": 4
}
