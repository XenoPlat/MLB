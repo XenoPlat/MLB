{
 "cells": [
  {
   "cell_type": "markdown",
   "metadata": {},
   "source": [
    "## Урок 6. Кейс 2. Данные в страховом бизнесе. EDA"
   ]
  },
  {
   "cell_type": "markdown",
   "metadata": {},
   "source": [
    "__1. Напишите текстом как минимум 6 функций распределения и соответствующие им функции правдоподобия.<br>\n",
    "Напишите, какие по вашему мнению целевые переменные из бизнеса (лучше - из страхового) соответствуют этим распределениям (по 2 примера на каждое).<br>\n",
    "Пример: биномиальное распределение для задачи моделирования пролонгации (продлил клиент полис на следующий период или нет).__"
   ]
  },
  {
   "cell_type": "markdown",
   "metadata": {},
   "source": [
    "Очевидно, что биномиальное распределение:<br>\n",
    "- наступление страхового случая по конкретному клиенту в течение действия полиса\n",
    "- приобретение нового полиса клиентом в зависимости от предыдущего опыта взаимодействия со страховщиком"
   ]
  },
  {
   "cell_type": "markdown",
   "metadata": {},
   "source": [
    "Геометрическое распределение:<br>\n",
    "- число рекламных звонков или обращений к клиенту, пока он не \"сдастся\" и не купит полис\n",
    "- число периодов страхования, пока не возникнет страховой случай у конкретного клиента"
   ]
  },
  {
   "cell_type": "markdown",
   "metadata": {},
   "source": [
    "Полиномиальное (мультиномиальное) распределение:<br>\n",
    "- клиент купит полис ОСАГО, но не купит КАСКО в связи с приобретением нового автомобиля или тот и другой полисы, или только КАСКО, а за ОСАГО пойдет к другому страховщику, или вообще уйдет к другому страховщику\n",
    "- при наступлении страхового случая, клиент использует только ОСАГО или ОСАГО и КАСКО, или только КАСКО"
   ]
  },
  {
   "cell_type": "markdown",
   "metadata": {},
   "source": [
    "Нормальное распределение:<br>\n",
    "- рост страховых случаев при резком изменении погоды в сезон осень-зима\n",
    "- наступление страхового случая в определенной возрастной группе в зависимости от наличия газовой плиты в доме"
   ]
  },
  {
   "cell_type": "markdown",
   "metadata": {},
   "source": [
    "Равномерное распределение:<br>\n",
    "- наступление страхового случая в течение срока действия договора чартера яхты\n",
    "- прибыль/убыток в течение года при неизменном пуле страхователей"
   ]
  },
  {
   "cell_type": "markdown",
   "metadata": {},
   "source": [
    "Экспоненциальное распределение:<br>\n",
    "- средняя продолжительность разговора с клиентом при обращении в кол-центр\n",
    "- среднее время приобретения полиса у страховщика, пока страхователь не взбесился и не разгромил офис страховщика"
   ]
  },
  {
   "cell_type": "markdown",
   "metadata": {},
   "source": [
    "__2. На основе датасета из ноутбука проведите анализ данных и постройте зависимости частоты и среднего убытка от какого-либо параметра (за исключением уже выполненных в ноутбуке).__"
   ]
  },
  {
   "cell_type": "code",
   "execution_count": 36,
   "metadata": {},
   "outputs": [],
   "source": [
    "import pandas as pd\n",
    "import numpy as np\n",
    "import matplotlib.pyplot as plt\n",
    "import seaborn as sns\n",
    "\n",
    "%matplotlib inline"
   ]
  },
  {
   "cell_type": "code",
   "execution_count": 19,
   "metadata": {},
   "outputs": [
    {
     "name": "stdout",
     "output_type": "stream",
     "text": [
      "<class 'pandas.core.frame.DataFrame'>\n",
      "RangeIndex: 343080 entries, 0 to 343079\n",
      "Data columns (total 31 columns):\n",
      " #   Column             Non-Null Count   Dtype  \n",
      "---  ------             --------------   -----  \n",
      " 0   Exposure           343080 non-null  float64\n",
      " 1   LicAge             343080 non-null  int64  \n",
      " 2   RecordBeg          343080 non-null  object \n",
      " 3   RecordEnd          181115 non-null  object \n",
      " 4   VehAge             177880 non-null  object \n",
      " 5   Gender             343080 non-null  object \n",
      " 6   MariStat           343080 non-null  object \n",
      " 7   SocioCateg         343080 non-null  object \n",
      " 8   VehUsage           343080 non-null  object \n",
      " 9   DrivAge            343080 non-null  int64  \n",
      " 10  HasKmLimit         343080 non-null  int64  \n",
      " 11  BonusMalus         343080 non-null  int64  \n",
      " 12  VehBody            145780 non-null  object \n",
      " 13  VehPrice           145780 non-null  object \n",
      " 14  VehEngine          145780 non-null  object \n",
      " 15  VehEnergy          145780 non-null  object \n",
      " 16  VehMaxSpeed        145780 non-null  object \n",
      " 17  VehClass           145780 non-null  object \n",
      " 18  ClaimAmount        343080 non-null  float64\n",
      " 19  RiskVar            145780 non-null  float64\n",
      " 20  Garage             145780 non-null  object \n",
      " 21  ClaimInd           343080 non-null  int64  \n",
      " 22  Dataset            343080 non-null  int64  \n",
      " 23  DeducType          66890 non-null   object \n",
      " 24  ClaimNbResp        197300 non-null  float64\n",
      " 25  ClaimNbNonResp     197300 non-null  float64\n",
      " 26  ClaimNbParking     197300 non-null  float64\n",
      " 27  ClaimNbFireTheft   197300 non-null  float64\n",
      " 28  ClaimNbWindscreen  197300 non-null  float64\n",
      " 29  OutUseNb           197300 non-null  float64\n",
      " 30  RiskArea           197300 non-null  float64\n",
      "dtypes: float64(10), int64(6), object(15)\n",
      "memory usage: 81.1+ MB\n"
     ]
    }
   ],
   "source": [
    "df = pd.read_csv('E:\\GB\\MachineLearning\\MPL_R.csv', low_memory=False)\n",
    "df.info()\n",
    "# пришлось изменить имя файла, т.к. 'fre-' не читалось"
   ]
  },
  {
   "cell_type": "code",
   "execution_count": 18,
   "metadata": {},
   "outputs": [
    {
     "data": {
      "text/html": [
       "<div>\n",
       "<style scoped>\n",
       "    .dataframe tbody tr th:only-of-type {\n",
       "        vertical-align: middle;\n",
       "    }\n",
       "\n",
       "    .dataframe tbody tr th {\n",
       "        vertical-align: top;\n",
       "    }\n",
       "\n",
       "    .dataframe thead th {\n",
       "        text-align: right;\n",
       "    }\n",
       "</style>\n",
       "<table border=\"1\" class=\"dataframe\">\n",
       "  <thead>\n",
       "    <tr style=\"text-align: right;\">\n",
       "      <th></th>\n",
       "      <th>Exposure</th>\n",
       "      <th>LicAge</th>\n",
       "      <th>RecordBeg</th>\n",
       "      <th>RecordEnd</th>\n",
       "      <th>VehAge</th>\n",
       "      <th>Gender</th>\n",
       "      <th>MariStat</th>\n",
       "      <th>SocioCateg</th>\n",
       "      <th>VehUsage</th>\n",
       "      <th>DrivAge</th>\n",
       "      <th>...</th>\n",
       "      <th>ClaimInd</th>\n",
       "      <th>Dataset</th>\n",
       "      <th>DeducType</th>\n",
       "      <th>ClaimNbResp</th>\n",
       "      <th>ClaimNbNonResp</th>\n",
       "      <th>ClaimNbParking</th>\n",
       "      <th>ClaimNbFireTheft</th>\n",
       "      <th>ClaimNbWindscreen</th>\n",
       "      <th>OutUseNb</th>\n",
       "      <th>RiskArea</th>\n",
       "    </tr>\n",
       "  </thead>\n",
       "  <tbody>\n",
       "    <tr>\n",
       "      <th>0</th>\n",
       "      <td>0.583</td>\n",
       "      <td>366</td>\n",
       "      <td>2004-06-01</td>\n",
       "      <td>NaN</td>\n",
       "      <td>2</td>\n",
       "      <td>Female</td>\n",
       "      <td>Other</td>\n",
       "      <td>CSP1</td>\n",
       "      <td>Professional</td>\n",
       "      <td>55</td>\n",
       "      <td>...</td>\n",
       "      <td>0</td>\n",
       "      <td>1</td>\n",
       "      <td>NaN</td>\n",
       "      <td>NaN</td>\n",
       "      <td>NaN</td>\n",
       "      <td>NaN</td>\n",
       "      <td>NaN</td>\n",
       "      <td>NaN</td>\n",
       "      <td>NaN</td>\n",
       "      <td>NaN</td>\n",
       "    </tr>\n",
       "    <tr>\n",
       "      <th>1</th>\n",
       "      <td>0.200</td>\n",
       "      <td>187</td>\n",
       "      <td>2004-10-19</td>\n",
       "      <td>NaN</td>\n",
       "      <td>0</td>\n",
       "      <td>Male</td>\n",
       "      <td>Alone</td>\n",
       "      <td>CSP55</td>\n",
       "      <td>Private+trip to office</td>\n",
       "      <td>34</td>\n",
       "      <td>...</td>\n",
       "      <td>0</td>\n",
       "      <td>1</td>\n",
       "      <td>NaN</td>\n",
       "      <td>NaN</td>\n",
       "      <td>NaN</td>\n",
       "      <td>NaN</td>\n",
       "      <td>NaN</td>\n",
       "      <td>NaN</td>\n",
       "      <td>NaN</td>\n",
       "      <td>NaN</td>\n",
       "    </tr>\n",
       "    <tr>\n",
       "      <th>2</th>\n",
       "      <td>0.083</td>\n",
       "      <td>169</td>\n",
       "      <td>2004-07-16</td>\n",
       "      <td>2004-08-16</td>\n",
       "      <td>1</td>\n",
       "      <td>Female</td>\n",
       "      <td>Other</td>\n",
       "      <td>CSP1</td>\n",
       "      <td>Professional</td>\n",
       "      <td>33</td>\n",
       "      <td>...</td>\n",
       "      <td>0</td>\n",
       "      <td>1</td>\n",
       "      <td>NaN</td>\n",
       "      <td>NaN</td>\n",
       "      <td>NaN</td>\n",
       "      <td>NaN</td>\n",
       "      <td>NaN</td>\n",
       "      <td>NaN</td>\n",
       "      <td>NaN</td>\n",
       "      <td>NaN</td>\n",
       "    </tr>\n",
       "    <tr>\n",
       "      <th>3</th>\n",
       "      <td>0.375</td>\n",
       "      <td>170</td>\n",
       "      <td>2004-08-16</td>\n",
       "      <td>NaN</td>\n",
       "      <td>1</td>\n",
       "      <td>Female</td>\n",
       "      <td>Other</td>\n",
       "      <td>CSP1</td>\n",
       "      <td>Professional</td>\n",
       "      <td>34</td>\n",
       "      <td>...</td>\n",
       "      <td>0</td>\n",
       "      <td>1</td>\n",
       "      <td>NaN</td>\n",
       "      <td>NaN</td>\n",
       "      <td>NaN</td>\n",
       "      <td>NaN</td>\n",
       "      <td>NaN</td>\n",
       "      <td>NaN</td>\n",
       "      <td>NaN</td>\n",
       "      <td>NaN</td>\n",
       "    </tr>\n",
       "    <tr>\n",
       "      <th>4</th>\n",
       "      <td>0.500</td>\n",
       "      <td>224</td>\n",
       "      <td>2004-01-01</td>\n",
       "      <td>2004-07-01</td>\n",
       "      <td>3</td>\n",
       "      <td>Male</td>\n",
       "      <td>Other</td>\n",
       "      <td>CSP47</td>\n",
       "      <td>Professional</td>\n",
       "      <td>53</td>\n",
       "      <td>...</td>\n",
       "      <td>1</td>\n",
       "      <td>1</td>\n",
       "      <td>NaN</td>\n",
       "      <td>NaN</td>\n",
       "      <td>NaN</td>\n",
       "      <td>NaN</td>\n",
       "      <td>NaN</td>\n",
       "      <td>NaN</td>\n",
       "      <td>NaN</td>\n",
       "      <td>NaN</td>\n",
       "    </tr>\n",
       "  </tbody>\n",
       "</table>\n",
       "<p>5 rows × 31 columns</p>\n",
       "</div>"
      ],
      "text/plain": [
       "   Exposure  LicAge   RecordBeg   RecordEnd VehAge  Gender MariStat  \\\n",
       "0     0.583     366  2004-06-01         NaN      2  Female    Other   \n",
       "1     0.200     187  2004-10-19         NaN      0    Male    Alone   \n",
       "2     0.083     169  2004-07-16  2004-08-16      1  Female    Other   \n",
       "3     0.375     170  2004-08-16         NaN      1  Female    Other   \n",
       "4     0.500     224  2004-01-01  2004-07-01      3    Male    Other   \n",
       "\n",
       "  SocioCateg                VehUsage  DrivAge  ...  ClaimInd  Dataset  \\\n",
       "0       CSP1            Professional       55  ...         0        1   \n",
       "1      CSP55  Private+trip to office       34  ...         0        1   \n",
       "2       CSP1            Professional       33  ...         0        1   \n",
       "3       CSP1            Professional       34  ...         0        1   \n",
       "4      CSP47            Professional       53  ...         1        1   \n",
       "\n",
       "  DeducType ClaimNbResp ClaimNbNonResp ClaimNbParking ClaimNbFireTheft  \\\n",
       "0       NaN         NaN            NaN            NaN              NaN   \n",
       "1       NaN         NaN            NaN            NaN              NaN   \n",
       "2       NaN         NaN            NaN            NaN              NaN   \n",
       "3       NaN         NaN            NaN            NaN              NaN   \n",
       "4       NaN         NaN            NaN            NaN              NaN   \n",
       "\n",
       "  ClaimNbWindscreen  OutUseNb  RiskArea  \n",
       "0               NaN       NaN       NaN  \n",
       "1               NaN       NaN       NaN  \n",
       "2               NaN       NaN       NaN  \n",
       "3               NaN       NaN       NaN  \n",
       "4               NaN       NaN       NaN  \n",
       "\n",
       "[5 rows x 31 columns]"
      ]
     },
     "execution_count": 18,
     "metadata": {},
     "output_type": "execute_result"
    }
   ],
   "source": [
    "df.head()"
   ]
  },
  {
   "cell_type": "code",
   "execution_count": 21,
   "metadata": {},
   "outputs": [
    {
     "name": "stdout",
     "output_type": "stream",
     "text": [
      "Dataset  Missing Variables\n",
      "1 \t ['DeducType', 'ClaimNbResp', 'ClaimNbNonResp', 'ClaimNbParking', 'ClaimNbFireTheft', 'ClaimNbWindscreen', 'OutUseNb', 'RiskArea']\n",
      "2 \t ['DeducType', 'ClaimNbResp', 'ClaimNbNonResp', 'ClaimNbParking', 'ClaimNbFireTheft', 'ClaimNbWindscreen', 'OutUseNb', 'RiskArea']\n",
      "3 \t ['ClaimNbResp', 'ClaimNbNonResp', 'ClaimNbParking', 'ClaimNbFireTheft', 'ClaimNbWindscreen', 'OutUseNb', 'RiskArea']\n",
      "4 \t ['ClaimNbResp', 'ClaimNbNonResp', 'ClaimNbParking', 'ClaimNbFireTheft', 'ClaimNbWindscreen', 'OutUseNb', 'RiskArea']\n",
      "5 \t ['VehAge', 'VehBody', 'VehPrice', 'VehEngine', 'VehEnergy', 'VehMaxSpeed', 'VehClass', 'RiskVar', 'Garage', 'DeducType']\n",
      "6 \t ['VehAge', 'VehBody', 'VehPrice', 'VehEngine', 'VehEnergy', 'VehMaxSpeed', 'VehClass', 'RiskVar', 'Garage', 'DeducType']\n",
      "7 \t ['VehAge', 'VehBody', 'VehPrice', 'VehEngine', 'VehEnergy', 'VehMaxSpeed', 'VehClass', 'RiskVar', 'Garage', 'DeducType']\n",
      "8 \t ['VehAge', 'VehBody', 'VehPrice', 'VehEngine', 'VehEnergy', 'VehMaxSpeed', 'VehClass', 'RiskVar', 'Garage', 'DeducType']\n",
      "9 \t ['VehAge', 'VehBody', 'VehPrice', 'VehEngine', 'VehEnergy', 'VehMaxSpeed', 'VehClass', 'RiskVar', 'Garage', 'DeducType']\n",
      "10 \t ['VehBody', 'VehPrice', 'VehEngine', 'VehEnergy', 'VehMaxSpeed', 'VehClass', 'RiskVar', 'Garage', 'DeducType']\n"
     ]
    }
   ],
   "source": [
    "dct = {}\n",
    "for i in range(1,11):\n",
    "    _x = df.loc[df.Dataset == i].notnull().sum()\n",
    "    dct[i] = list(_x[_x == 0].index)\n",
    "\n",
    "print('Dataset  Missing Variables')\n",
    "for x in range(1,11):\n",
    "    print(x,'\\t',dct[x])"
   ]
  },
  {
   "cell_type": "code",
   "execution_count": 22,
   "metadata": {},
   "outputs": [
    {
     "name": "stdout",
     "output_type": "stream",
     "text": [
      "With duplicates\t\t 165200\n",
      "Without duplicates\t 115155\n"
     ]
    }
   ],
   "source": [
    "df59 = df.loc[df.Dataset.isin([5, 6, 7, 8, 9])]\n",
    "df59 = df59.drop(['Dataset'], axis=1)\n",
    "df59 = df59.dropna(axis=1, how='all')\n",
    "print('With duplicates\\t\\t', len(df59))\n",
    "df59 = df59.drop_duplicates()\n",
    "print('Without duplicates\\t', len(df59))"
   ]
  },
  {
   "cell_type": "code",
   "execution_count": 24,
   "metadata": {},
   "outputs": [
    {
     "data": {
      "text/html": [
       "<div>\n",
       "<style scoped>\n",
       "    .dataframe tbody tr th:only-of-type {\n",
       "        vertical-align: middle;\n",
       "    }\n",
       "\n",
       "    .dataframe tbody tr th {\n",
       "        vertical-align: top;\n",
       "    }\n",
       "\n",
       "    .dataframe thead th {\n",
       "        text-align: right;\n",
       "    }\n",
       "</style>\n",
       "<table border=\"1\" class=\"dataframe\">\n",
       "  <thead>\n",
       "    <tr style=\"text-align: right;\">\n",
       "      <th></th>\n",
       "      <th>Exposure</th>\n",
       "      <th>LicAge</th>\n",
       "      <th>RecordBeg</th>\n",
       "      <th>RecordEnd</th>\n",
       "      <th>Gender</th>\n",
       "      <th>MariStat</th>\n",
       "      <th>SocioCateg</th>\n",
       "      <th>VehUsage</th>\n",
       "      <th>DrivAge</th>\n",
       "      <th>HasKmLimit</th>\n",
       "      <th>...</th>\n",
       "      <th>ClaimNbResp</th>\n",
       "      <th>ClaimNbNonResp</th>\n",
       "      <th>ClaimNbParking</th>\n",
       "      <th>ClaimNbFireTheft</th>\n",
       "      <th>ClaimNbWindscreen</th>\n",
       "      <th>OutUseNb</th>\n",
       "      <th>RiskArea</th>\n",
       "      <th>PolicyCount</th>\n",
       "      <th>ClaimCount</th>\n",
       "      <th>NoClaimCount</th>\n",
       "    </tr>\n",
       "  </thead>\n",
       "  <tbody>\n",
       "    <tr>\n",
       "      <th>145780</th>\n",
       "      <td>0.083</td>\n",
       "      <td>332</td>\n",
       "      <td>2004-01-01</td>\n",
       "      <td>2004-02-01</td>\n",
       "      <td>Male</td>\n",
       "      <td>Other</td>\n",
       "      <td>CSP50</td>\n",
       "      <td>Professional</td>\n",
       "      <td>46</td>\n",
       "      <td>0</td>\n",
       "      <td>...</td>\n",
       "      <td>0.0</td>\n",
       "      <td>1.0</td>\n",
       "      <td>0.0</td>\n",
       "      <td>0.0</td>\n",
       "      <td>0.0</td>\n",
       "      <td>0.0</td>\n",
       "      <td>9.0</td>\n",
       "      <td>1</td>\n",
       "      <td>False</td>\n",
       "      <td>1</td>\n",
       "    </tr>\n",
       "    <tr>\n",
       "      <th>145781</th>\n",
       "      <td>0.916</td>\n",
       "      <td>333</td>\n",
       "      <td>2004-02-01</td>\n",
       "      <td>NaN</td>\n",
       "      <td>Male</td>\n",
       "      <td>Other</td>\n",
       "      <td>CSP50</td>\n",
       "      <td>Professional</td>\n",
       "      <td>46</td>\n",
       "      <td>0</td>\n",
       "      <td>...</td>\n",
       "      <td>0.0</td>\n",
       "      <td>1.0</td>\n",
       "      <td>0.0</td>\n",
       "      <td>0.0</td>\n",
       "      <td>0.0</td>\n",
       "      <td>0.0</td>\n",
       "      <td>9.0</td>\n",
       "      <td>1</td>\n",
       "      <td>False</td>\n",
       "      <td>1</td>\n",
       "    </tr>\n",
       "    <tr>\n",
       "      <th>145782</th>\n",
       "      <td>0.550</td>\n",
       "      <td>173</td>\n",
       "      <td>2004-05-15</td>\n",
       "      <td>2004-12-03</td>\n",
       "      <td>Male</td>\n",
       "      <td>Other</td>\n",
       "      <td>CSP50</td>\n",
       "      <td>Private+trip to office</td>\n",
       "      <td>32</td>\n",
       "      <td>0</td>\n",
       "      <td>...</td>\n",
       "      <td>0.0</td>\n",
       "      <td>2.0</td>\n",
       "      <td>0.0</td>\n",
       "      <td>0.0</td>\n",
       "      <td>0.0</td>\n",
       "      <td>0.0</td>\n",
       "      <td>7.0</td>\n",
       "      <td>1</td>\n",
       "      <td>False</td>\n",
       "      <td>1</td>\n",
       "    </tr>\n",
       "    <tr>\n",
       "      <th>145783</th>\n",
       "      <td>0.089</td>\n",
       "      <td>364</td>\n",
       "      <td>2004-11-29</td>\n",
       "      <td>NaN</td>\n",
       "      <td>Female</td>\n",
       "      <td>Other</td>\n",
       "      <td>CSP55</td>\n",
       "      <td>Private+trip to office</td>\n",
       "      <td>52</td>\n",
       "      <td>0</td>\n",
       "      <td>...</td>\n",
       "      <td>0.0</td>\n",
       "      <td>0.0</td>\n",
       "      <td>0.0</td>\n",
       "      <td>0.0</td>\n",
       "      <td>0.0</td>\n",
       "      <td>0.0</td>\n",
       "      <td>8.0</td>\n",
       "      <td>1</td>\n",
       "      <td>False</td>\n",
       "      <td>1</td>\n",
       "    </tr>\n",
       "    <tr>\n",
       "      <th>145784</th>\n",
       "      <td>0.233</td>\n",
       "      <td>426</td>\n",
       "      <td>2004-02-07</td>\n",
       "      <td>2004-05-01</td>\n",
       "      <td>Male</td>\n",
       "      <td>Other</td>\n",
       "      <td>CSP60</td>\n",
       "      <td>Private</td>\n",
       "      <td>57</td>\n",
       "      <td>0</td>\n",
       "      <td>...</td>\n",
       "      <td>0.0</td>\n",
       "      <td>0.0</td>\n",
       "      <td>0.0</td>\n",
       "      <td>0.0</td>\n",
       "      <td>0.0</td>\n",
       "      <td>0.0</td>\n",
       "      <td>7.0</td>\n",
       "      <td>1</td>\n",
       "      <td>False</td>\n",
       "      <td>1</td>\n",
       "    </tr>\n",
       "  </tbody>\n",
       "</table>\n",
       "<p>5 rows × 23 columns</p>\n",
       "</div>"
      ],
      "text/plain": [
       "        Exposure  LicAge   RecordBeg   RecordEnd  Gender MariStat SocioCateg  \\\n",
       "145780     0.083     332  2004-01-01  2004-02-01    Male    Other      CSP50   \n",
       "145781     0.916     333  2004-02-01         NaN    Male    Other      CSP50   \n",
       "145782     0.550     173  2004-05-15  2004-12-03    Male    Other      CSP50   \n",
       "145783     0.089     364  2004-11-29         NaN  Female    Other      CSP55   \n",
       "145784     0.233     426  2004-02-07  2004-05-01    Male    Other      CSP60   \n",
       "\n",
       "                      VehUsage  DrivAge  HasKmLimit  ...  ClaimNbResp  \\\n",
       "145780            Professional       46           0  ...          0.0   \n",
       "145781            Professional       46           0  ...          0.0   \n",
       "145782  Private+trip to office       32           0  ...          0.0   \n",
       "145783  Private+trip to office       52           0  ...          0.0   \n",
       "145784                 Private       57           0  ...          0.0   \n",
       "\n",
       "        ClaimNbNonResp  ClaimNbParking  ClaimNbFireTheft  ClaimNbWindscreen  \\\n",
       "145780             1.0             0.0               0.0                0.0   \n",
       "145781             1.0             0.0               0.0                0.0   \n",
       "145782             2.0             0.0               0.0                0.0   \n",
       "145783             0.0             0.0               0.0                0.0   \n",
       "145784             0.0             0.0               0.0                0.0   \n",
       "\n",
       "        OutUseNb  RiskArea  PolicyCount  ClaimCount  NoClaimCount  \n",
       "145780       0.0       9.0            1       False             1  \n",
       "145781       0.0       9.0            1       False             1  \n",
       "145782       0.0       7.0            1       False             1  \n",
       "145783       0.0       8.0            1       False             1  \n",
       "145784       0.0       7.0            1       False             1  \n",
       "\n",
       "[5 rows x 23 columns]"
      ]
     },
     "execution_count": 24,
     "metadata": {},
     "output_type": "execute_result"
    }
   ],
   "source": [
    "df = df59\n",
    "\n",
    "# Вспомогательный столбец для суммирования числа полисов\n",
    "df['PolicyCount'] = 1\n",
    "\n",
    "# Вспомогательный столбец для суммирования числа полисов с убытками\n",
    "df['ClaimCount'] = df['ClaimAmount'] > 0\n",
    "# df['ClaimCount'] = abs(df['ClaimAmount'])\n",
    "\n",
    "# Вспомогательный столбец для суммирования числа полисов без убытков\n",
    "df['NoClaimCount'] = df.PolicyCount - df.ClaimCount\n",
    "\n",
    "df.head()"
   ]
  },
  {
   "cell_type": "markdown",
   "metadata": {},
   "source": [
    "На уроке разобрали много полезных параметров. Из оставшихся можно посмотреть на цель использования ТС."
   ]
  },
  {
   "cell_type": "code",
   "execution_count": 28,
   "metadata": {},
   "outputs": [
    {
     "data": {
      "text/plain": [
       "array(['Professional', 'Private+trip to office', 'Private',\n",
       "       'Professional run'], dtype=object)"
      ]
     },
     "execution_count": 28,
     "metadata": {},
     "output_type": "execute_result"
    }
   ],
   "source": [
    "df['VehUsage'].unique()"
   ]
  },
  {
   "cell_type": "code",
   "execution_count": 29,
   "metadata": {},
   "outputs": [],
   "source": [
    "df_group_VehUsage = df[['Exposure', 'PolicyCount','ClaimAmount', 'ClaimCount', 'NoClaimCount']].groupby(df['VehUsage']).sum()\n",
    "df_group_VehUsage = df_group_VehUsage.reset_index()\n",
    "df_group_VehUsage['Freq'] = df_group_VehUsage.ClaimCount / df_group_VehUsage.Exposure\n",
    "df_group_VehUsage['AvgClaim'] = df_group_VehUsage.ClaimAmount / df_group_VehUsage.ClaimCount"
   ]
  },
  {
   "cell_type": "code",
   "execution_count": 32,
   "metadata": {},
   "outputs": [
    {
     "data": {
      "image/png": "[encoded data removed]",
      "text/plain": [
       "<Figure size 432x288 with 1 Axes>"
      ]
     },
     "metadata": {
      "needs_background": "light"
     },
     "output_type": "display_data"
    }
   ],
   "source": [
    "plt.plot(df_group_VehUsage['VehUsage'], linestyle='dashed', label='VehUsage' )\n",
    "plt.plot(df_group_VehUsage['Freq'],'r', label='Freq')\n",
    "\n",
    "plt.title('Зависимость частоты убытков от назначения использования ТС')\n",
    "plt.legend()\n",
    "plt.show()"
   ]
  },
  {
   "cell_type": "markdown",
   "metadata": {},
   "source": [
    "Видно, что частота страховых случаев у спортивного и коммерческого транспорта выше, что ожидаемо и объяснимо их естесственной спецификой. Посмотрим на средний убыток."
   ]
  },
  {
   "cell_type": "code",
   "execution_count": 38,
   "metadata": {},
   "outputs": [
    {
     "data": {
      "image/png": "[encoded data removed]",
      "text/plain": [
       "<Figure size 432x288 with 1 Axes>"
      ]
     },
     "metadata": {
      "needs_background": "light"
     },
     "output_type": "display_data"
    }
   ],
   "source": [
    "plt.plot(df_group_VehUsage['VehUsage'], linestyle='dashed', label='VehUsage' )\n",
    "plt.plot(df_group_VehUsage['AvgClaim'],'r', label='AvgClaim')\n",
    "\n",
    "plt.title('Зависимость средних убытков от цели использования ТС')\n",
    "plt.legend()\n",
    "plt.show()"
   ]
  },
  {
   "cell_type": "markdown",
   "metadata": {},
   "source": [
    "Удивительно, что по гонщикам ниже, чем по частникам. Надо дополнительно смотреть на другие данные. Скажем, угоны или неполное возмещение стоимости болида. "
   ]
  }
 ],
 "metadata": {
  "kernelspec": {
   "display_name": "Python 3",
   "language": "python",
   "name": "python3"
  },
  "language_info": {
   "codemirror_mode": {
    "name": "ipython",
    "version": 3
   },
   "file_extension": ".py",
   "mimetype": "text/x-python",
   "name": "python",
   "nbconvert_exporter": "python",
   "pygments_lexer": "ipython3",
   "version": "3.7.6"
  }
 },
 "nbformat": 4,
 "nbformat_minor": 4
}
